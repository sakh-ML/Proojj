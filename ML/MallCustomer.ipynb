{
 "cells": [
  {
   "cell_type": "code",
   "execution_count": 1,
   "id": "77e0e6c0-dbbe-42a1-8ad3-04d763183cc3",
   "metadata": {},
   "outputs": [],
   "source": [
    "###### Hello ######\n",
    "##ML project ##\n",
    "#https://www.kaggle.com/datasets/vjchoudhary7/customer-segmentation-tutorial-in-python"
   ]
  },
  {
   "cell_type": "code",
   "execution_count": 2,
   "id": "000acb5d-e32a-4c96-bc2c-e2a861fa4905",
   "metadata": {},
   "outputs": [],
   "source": [
    "import pandas as pd\n",
    "import numpy as np\n",
    "import seaborn as sns\n",
    "import matplotlib.pyplot as plt"
   ]
  },
  {
   "cell_type": "code",
   "execution_count": null,
   "id": "6661bd65-9e6a-488c-a1d0-039acfc52c11",
   "metadata": {},
   "outputs": [],
   "source": [
    "df = "
   ]
  }
 ],
 "metadata": {
  "kernelspec": {
   "display_name": "Python 3 (ipykernel)",
   "language": "python",
   "name": "python3"
  },
  "language_info": {
   "codemirror_mode": {
    "name": "ipython",
    "version": 3
   },
   "file_extension": ".py",
   "mimetype": "text/x-python",
   "name": "python",
   "nbconvert_exporter": "python",
   "pygments_lexer": "ipython3",
   "version": "3.12.7"
  }
 },
 "nbformat": 4,
 "nbformat_minor": 5
}
